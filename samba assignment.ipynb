{
 "cells": [
  {
   "cell_type": "code",
   "execution_count": 8,
   "id": "0a8ff52f",
   "metadata": {},
   "outputs": [
    {
     "name": "stdout",
     "output_type": "stream",
     "text": [
      "no of people =  430\n",
      "seats_count_of_bus =  20\n",
      "needed buses are 22\n"
     ]
    }
   ],
   "source": [
    "# 1.\tTake the input from the user for(Total number of people,Number of seats for bus. Based on two inputs\n",
    "# Decide how many number of buses required\n",
    "def bus_count():\n",
    "    people_count =int(input('no of people =  '))\n",
    "    seats_count_of_bus =int(input('seats_count_of_bus =  '))\n",
    "    a=people_count/seats_count_of_bus\n",
    "    b=people_count//seats_count_of_bus\n",
    "    if b==a:\n",
    "         print(f'needed buses are {b}')\n",
    "    else :\n",
    "        print( f'needed buses are {b+1}')\n",
    "\n",
    "    #bus_count()\n",
    "bus_count()\n"
   ]
  },
  {
   "cell_type": "code",
   "execution_count": 10,
   "id": "70c28210",
   "metadata": {},
   "outputs": [
    {
     "name": "stdout",
     "output_type": "stream",
     "text": [
      "Enter the temperature in Fahrenheit: 430\n",
      "430.0 degrees Fahrenheit is equal to 221.11 degrees Celsius.\n"
     ]
    }
   ],
   "source": [
    "# take temperature from the user and convert foreign heat -> Celsius.\n",
    "fahrenheit = float(input(\"Enter the temperature in Fahrenheit: \"))\n",
    "celsius = (fahrenheit - 32) * 5 / 9\n",
    "print(f\"{fahrenheit} degrees Fahrenheit is equal to {celsius:.2f} degrees Celsius.\")\n"
   ]
  },
  {
   "cell_type": "code",
   "execution_count": 11,
   "id": "0e4f44ce",
   "metadata": {},
   "outputs": [
    {
     "name": "stdout",
     "output_type": "stream",
     "text": [
      "Enter the temperature in Celsius: 45\n",
      "45.0 degrees Celsius is equal to 113.00 degrees Fahrenheit.\n"
     ]
    }
   ],
   "source": [
    "# Take temperature input from the user in Celsius\n",
    "celsius = float(input(\"Enter the temperature in Celsius: \"))\n",
    "fahrenheit = (celsius * 9/5) + 32\n",
    "print(f\"{celsius} degrees Celsius is equal to {fahrenheit:.2f} degrees Fahrenheit.\")"
   ]
  },
  {
   "cell_type": "code",
   "execution_count": 1,
   "id": "32c5af13",
   "metadata": {},
   "outputs": [
    {
     "name": "stdout",
     "output_type": "stream",
     "text": [
      "45\n",
      "65\n",
      "32\n",
      "12\n",
      "22.27853974867593\n",
      "sum of gven numbers  189.46499999999997\n",
      "avarage of given numbers 38.5\n"
     ]
    }
   ],
   "source": [
    "# 4.take four number from the user (variables name it as x1,x2,x3,x4)\n",
    "#  Do the below operations\n",
    "#  (x1+x2)**2, (x3+x4)**3\n",
    "# variance\n",
    "# standard deviation: sqrt(variance):  User math module. Math.sqrt(variance)\n",
    "# Regression\n",
    "# \ty=mx+b\n",
    "#           m=1.23\n",
    "#           b=0.045\n",
    "#           find out y\n",
    "#           y=m*(x1+x2+x3+x4)+b\n",
    "#  Find the average of four numbers\n",
    "# Find the sum of four numbers\n",
    "# x1=int(input())\n",
    "# x2=int(input())\n",
    "# x3=int(input())\n",
    "# x4=int(input())\n",
    "x=[]\n",
    "for i in range(4):\n",
    "    a=int(input())\n",
    "    x.append(a)\n",
    "s=sum(x)\n",
    "import statistics\n",
    "var=statistics.variance(x)\n",
    "import math\n",
    "standard_deviation=math.sqrt(var)\n",
    "print(standard_deviation)\n",
    "m=1.23\n",
    "b=0.045\n",
    "y =m*s+b\n",
    "print('sum of gven numbers ',y)\n",
    "print('avarage of given numbers',statistics.mean(x))"
   ]
  },
  {
   "cell_type": "code",
   "execution_count": 5,
   "id": "8558fbd7",
   "metadata": {},
   "outputs": [
    {
     "name": "stdout",
     "output_type": "stream",
     "text": [
      "Enter KM: 452\n",
      "452.0 kilometers is equal to:\n",
      "452000.0 meters\n",
      "45200000.0 centimeters\n",
      "452000000.0 millimeters\n",
      "1482939.6800000002 feet\n",
      "494311.72 yards\n"
     ]
    }
   ],
   "source": [
    "#    5.Take the distance in km\n",
    "#     \tShow that in cm, meters, in milli meters, cents, feets, yards\n",
    "distance_km = float(input(\"Enter KM: \"))\n",
    "distance_meters = distance_km * 1000\n",
    "distance_centimeters = distance_km * 100000\n",
    "distance_millimeters = distance_km * 1000000\n",
    "distance_feet = distance_km * 3280.84\n",
    "distance_yards = distance_km * 1093.61\n",
    "\n",
    "print(f\"{distance_km} kilometers is equal to:\")\n",
    "print(f\"{distance_meters} meters\")\n",
    "print(f\"{distance_centimeters} centimeters\")\n",
    "print(f\"{distance_millimeters} millimeters\")\n",
    "print(f\"{distance_feet} feet\")\n",
    "print(f\"{distance_yards} yards\")"
   ]
  },
  {
   "cell_type": "code",
   "execution_count": 4,
   "id": "aa060925",
   "metadata": {},
   "outputs": [
    {
     "name": "stdout",
     "output_type": "stream",
     "text": [
      "Enter the size of  GB: 1000\n",
      "1024000.0 MB\n",
      "1048576000.0 KB\n",
      "1.0 TB\n",
      "0.001 PB\n"
     ]
    }
   ],
   "source": [
    "# 6.Take the size of your hard disk in GB\n",
    "#      \tShow that in MB, KB, TB, PB\n",
    "size_gb = float(input(\"Enter the size of  GB: \"))\n",
    "\n",
    "size_mb = size_gb * 1024\n",
    "size_kb = size_gb * 1024 * 1024\n",
    "size_tb = size_gb * 0.001\n",
    "size_pb = size_gb * 0.000001\n",
    "\n",
    "print(f\"{size_mb} MB\")\n",
    "print(f\"{size_kb} KB\")\n",
    "print(f\"{size_tb} TB\")\n",
    "print(f\"{size_pb} PB\")"
   ]
  },
  {
   "cell_type": "code",
   "execution_count": 12,
   "id": "53f0939b",
   "metadata": {},
   "outputs": [
    {
     "name": "stdout",
     "output_type": "stream",
     "text": [
      "name of the person :gopi\n",
      "Age of the person :25\n",
      "Height of the person :5.5feet\n",
      "Name:gopi, Age:25, Height:5.5feet\n"
     ]
    }
   ],
   "source": [
    "#    7.  Take name, age, height from the user and print like below\n",
    "# The details of the person: Name:name of the person, Age:age of the person, Height:height of the person\n",
    "# Note: make sure that no space between : and a value and should be space after “COMA”\n",
    "name=input('name of the person :')\n",
    "Age=input('Age of the person :')\n",
    "Height=input('Height of the person :')\n",
    "print(f'Name:{name}, Age:{Age}, Height:{Height}')"
   ]
  },
  {
   "cell_type": "code",
   "execution_count": 19,
   "id": "7ba945f6",
   "metadata": {},
   "outputs": [
    {
     "name": "stdout",
     "output_type": "stream",
     "text": [
      "height in feets and inches ex 5.5: 5.8\n",
      "weight :90\n",
      "Overweight\n"
     ]
    }
   ],
   "source": [
    "# 8. BMI calculation: take required parameters for BMI calculation from the user and calculate BMI of the person.\n",
    "height =float(input('height in feets and inches ex 5.5: '))\n",
    "weight =float(input('weight :' ))\n",
    "H_in_M=height*0.3048\n",
    "bmi =weight/H_in_M**2\n",
    "if bmi<=18.5:\n",
    "    print('under weight')\n",
    "elif bmi>18.5 and bmi<=24.9 :\n",
    "    print('Normal weight')\n",
    "elif bmi>=25 and bmi<30 :#29.9:\n",
    "    print('Overweight' )\n",
    "else :\n",
    "    print('Obesity ')\n"
   ]
  },
  {
   "cell_type": "code",
   "execution_count": 27,
   "id": "e7f7bdfa",
   "metadata": {},
   "outputs": [
    {
     "name": "stdout",
     "output_type": "stream",
     "text": [
      "name:Govardhan\n",
      "age:25\n",
      "height:5.5\n",
      "weight66.2356\n",
      "name:Govardhan, Age:25, Height:5.5, Weight:66.236 \n"
     ]
    }
   ],
   "source": [
    "# 9. name=\"Jayaram\"\n",
    "# age=1.6\n",
    "# height=3.5356234\n",
    "# weight=10.343856783\n",
    "# By using above inputs print the output\n",
    "# Name:Jayaram, Age:1.6, Height:3.54, Weight:10.344\n",
    "# Note: Use format specifiers(%s, %d, %f)\n",
    "\n",
    "name = input('name:')\n",
    "age = int(input('age:'))\n",
    "height = float(input('height:'))\n",
    "weight = float(input('weight'))\n",
    "output =\"name:%s, Age:%d, Height:%.1f, Weight:%.3f \"%(name,age,height,weight)\n",
    "print(output)\n",
    "\n",
    "\n",
    "\n"
   ]
  },
  {
   "cell_type": "code",
   "execution_count": 29,
   "id": "bd7b29da",
   "metadata": {},
   "outputs": [
    {
     "data": {
      "text/plain": [
       "'aha'"
      ]
     },
     "execution_count": 29,
     "metadata": {},
     "output_type": "execute_result"
    }
   ],
   "source": [
    "# 10. Take three upper case letters from the user convert in to small case.\n",
    "lett='AHA'\n",
    "lett.lower()\n"
   ]
  },
  {
   "cell_type": "code",
   "execution_count": 41,
   "id": "c87a786a",
   "metadata": {},
   "outputs": [
    {
     "name": "stdout",
     "output_type": "stream",
     "text": [
      "2²\n",
      "5\n",
      "2\n",
      "5<sup>2</sup>\n"
     ]
    }
   ],
   "source": [
    "# 11. take base and exponent value from the user and print like in mathematics:\n",
    "# example: base=2, exponent=3: 23\n",
    "print('2\\N{SUPERSCRIPT TWO}')\n",
    "base =input()\n",
    "exp =input()\n",
    "print(f\"{base}<sup>{exp}</sup>\")"
   ]
  },
  {
   "cell_type": "code",
   "execution_count": 36,
   "id": "d65d7e98",
   "metadata": {},
   "outputs": [
    {
     "name": "stdout",
     "output_type": "stream",
     "text": [
      "2³\n"
     ]
    }
   ],
   "source": [
    "print('2\\N{SUPERSCRIPT THREE}')"
   ]
  },
  {
   "cell_type": "code",
   "execution_count": 42,
   "id": "6ef37a38",
   "metadata": {},
   "outputs": [
    {
     "name": "stdout",
     "output_type": "stream",
     "text": [
      "Enter the base value: 5\n",
      "Enter the exponent value: 23\n",
      "5²³\n"
     ]
    }
   ],
   "source": [
    "base = input(\"Enter the base value: \")\n",
    "exponent = input(\"Enter the exponent value: \")\n",
    "\n",
    "# Convert the exponent to a superscript using Unicode characters\n",
    "superscript = str.maketrans(\"0123456789\", \"⁰¹²³⁴⁵⁶⁷⁸⁹\")\n",
    "exponent_as_superscript = exponent.translate(superscript)\n",
    "\n",
    "# Formatting the output\n",
    "output = f\"{base}{exponent_as_superscript}\"\n",
    "\n",
    "print(output)\n"
   ]
  },
  {
   "cell_type": "code",
   "execution_count": 48,
   "id": "8b083173",
   "metadata": {},
   "outputs": [
    {
     "name": "stdout",
     "output_type": "stream",
     "text": [
      "base:4\n",
      "exponent:2\n",
      "4²\n"
     ]
    }
   ],
   "source": [
    "b=input('base:')\n",
    "x=input('exponent:')\n",
    "superscrpt=''.maketrans('0123456789',\"⁰¹²³⁴⁵⁶⁷⁸⁹\")\n",
    "x_as_s=x.translate(superscrpt)\n",
    "res=f'{b}{x_as_s}'\n",
    "print(res)"
   ]
  },
  {
   "cell_type": "code",
   "execution_count": 59,
   "id": "1b9828b9",
   "metadata": {},
   "outputs": [
    {
     "name": "stdout",
     "output_type": "stream",
     "text": [
      "['__class__', '__delattr__', '__dir__', '__doc__', '__eq__', '__format__', '__ge__', '__getattribute__', '__getstate__', '__gt__', '__hash__', '__init__', '__init_subclass__', '__iter__', '__le__', '__len__', '__lt__', '__ne__', '__new__', '__reduce__', '__reduce_ex__', '__repr__', '__reversed__', '__setattr__', '__sizeof__', '__str__', '__subclasshook__', 'mapping']\n"
     ]
    }
   ],
   "source": [
    "# 12. Take some groceries cost prices and print total cost and average cost, what is the max cost, what is the minimum cost.\n",
    "prices ={\"a\":20,\"b\":63,\"c\":12,\"d\":631,\"f\":41}\n",
    "dir(prices)\n",
    "a=prices.values()\n",
    "print(dir(a))\n",
    "a.mapping?\n",
    "a.__reversed__?\n",
    "a.__eq__?\n",
    "\n",
    "\n"
   ]
  },
  {
   "cell_type": "code",
   "execution_count": 5,
   "id": "bb0302ad",
   "metadata": {},
   "outputs": [
    {
     "name": "stdout",
     "output_type": "stream",
     "text": [
      "maxmum prices is  63\n",
      "minimum price is  4\n",
      "avarage of  price is  23\n",
      "sum of prices is  161\n"
     ]
    }
   ],
   "source": [
    "prices =[10,20,4,45,63,12,7]\n",
    "import statistics\n",
    "print('maxmum prices is ',max(prices))\n",
    "print('minimum price is ',min(prices))\n",
    "print('avarage of  price is ',statistics.mean(prices))\n",
    "print('sum of prices is ',sum(prices))"
   ]
  },
  {
   "cell_type": "code",
   "execution_count": 8,
   "id": "6680f15b",
   "metadata": {},
   "outputs": [
    {
     "name": "stdout",
     "output_type": "stream",
     "text": [
      "enter nums as strings:45\n"
     ]
    }
   ],
   "source": [
    "# 13. Assign “ten” value to variable it is 10 otherwise assign “Not ten”\n",
    "#        Note: write two versions of program\n",
    "# \tVersion1: use and operator\n",
    "# \tVersion2: use or operator \n",
    "var =input('enter nums as strings:')\n",
    "if var=='ten' :\n",
    "    pass\n"
   ]
  },
  {
   "cell_type": "code",
   "execution_count": 5,
   "id": "4f835ee5",
   "metadata": {},
   "outputs": [
    {
     "name": "stdout",
     "output_type": "stream",
     "text": [
      "#$321cba\n",
      "$%^987%$^6fed54$\n"
     ]
    }
   ],
   "source": [
    "#           62.Input: abc123,#$45def6%$^789$%^,\n",
    "                    #output:               $%^987%$^6fed54     ,#$321cba\n",
    "#          63.Input: abc123,#$45def6%$^789$%^, output: 9876fe,#$d54321%$^cba$%^\n",
    "\n",
    "st1='abc123'\n",
    "st2='#$45def6%$^789$%^'\n",
    "j=''\n",
    "s=\"#$\"\n",
    "for i in st1:\n",
    "    j=i+j\n",
    "else :\n",
    "    if '#$' in st2:\n",
    "        j='#$'+j\n",
    "print(j)\n",
    "l='%$^'\n",
    "z=''\n",
    "k=''                #$45def6%$^789$%^\n",
    "for i in st2:     # $%^987%$^6fed54\n",
    "    if i in l:     \n",
    "        k+=i\n",
    "    else :\n",
    "        if i not in s:\n",
    "            z=k+z\n",
    "            k=''\n",
    "            z=i+z\n",
    "else :\n",
    "    z=k+z\n",
    "print(z)"
   ]
  },
  {
   "cell_type": "code",
   "execution_count": 11,
   "id": "562f1312",
   "metadata": {},
   "outputs": [
    {
     "name": "stdout",
     "output_type": "stream",
     "text": [
      "no of people =  456\n",
      "seats_count_of_bus =  23\n",
      "total number of buses10\n",
      "required buses 10\n"
     ]
    }
   ],
   "source": [
    "# 13. Take the input from the user for(Total number of people, total number of buses, Number of seats for bus,\n",
    "#adjust factor). Based on four inputs\n",
    "# Decide whether there is sufficient buses or not and give solution for how many extra buses required.\n",
    "def bus_count():\n",
    "    people_count =int(input('no of people =  '))\n",
    "    seats_count_of_bus =int(input('seats_count_of_bus =  '))\n",
    "    bus_count =int(input('total number of buses'))\n",
    "    a=people_count/seats_count_of_bus\n",
    "    b=people_count//seats_count_of_bus\n",
    "    if b==a:\n",
    "        rec=b\n",
    "    else :\n",
    "        rec=b+1\n",
    "    if bus_count >= rec :\n",
    "        print(f'Have extra {bus_count-rec} buses ')\n",
    "    else :\n",
    "        print(f'required buses {rec-bus_count}')\n",
    "    \n",
    "bus_count()"
   ]
  },
  {
   "cell_type": "code",
   "execution_count": 12,
   "id": "ae702654",
   "metadata": {},
   "outputs": [
    {
     "name": "stdout",
     "output_type": "stream",
     "text": [
      "Enter a number: 21\n",
      "The number 21 is odd.\n"
     ]
    }
   ],
   "source": [
    "#14.Take number from the user decide whether it is even or odd.\n",
    "\n",
    "num = int(input(\"Enter a number: \"))\n",
    "if num % 2 == 0:\n",
    "    print(f\"The number {num} is even.\")\n",
    "else:\n",
    "    print(f\"The number {num} is odd.\")\n"
   ]
  },
  {
   "cell_type": "code",
   "execution_count": 13,
   "id": "9a445d6d",
   "metadata": {},
   "outputs": [
    {
     "name": "stdout",
     "output_type": "stream",
     "text": [
      "Enter a number: 0\n",
      "The number is zero.\n"
     ]
    }
   ],
   "source": [
    "#15.take number from the user decide whether it is positive number or negative number\n",
    "num = float(input(\"Enter a number: \")) \n",
    "if num > 0:\n",
    "    print(f\"The number {num} is a positive number.\")\n",
    "elif num < 0:\n",
    "    print(f\"The number {num} is a negative number.\")\n",
    "else:\n",
    "    print(\"The number is zero.\")\n"
   ]
  },
  {
   "cell_type": "code",
   "execution_count": 15,
   "id": "f2daed6b",
   "metadata": {},
   "outputs": [
    {
     "name": "stdout",
     "output_type": "stream",
     "text": [
      "Enter a string: \n",
      "Error: enter something.\n"
     ]
    }
   ],
   "source": [
    "#16.take a string from the user print the length. if the user not given anything then show an error message\n",
    "a = input(\"Enter a string: \")\n",
    "if len(a) == 0:\n",
    "    print(\"Error: enter something.\")\n",
    "else:\n",
    "    print(f\"The length of the string is: {len(a)}\")\n"
   ]
  },
  {
   "cell_type": "code",
   "execution_count": 1,
   "id": "c13e8771",
   "metadata": {},
   "outputs": [
    {
     "name": "stdout",
     "output_type": "stream",
     "text": [
      "Enter first number: 45\n",
      "Enter second number: 2\n",
      "\n",
      "Menu:\n",
      "1. Add\n",
      "2. Subtract\n",
      "3. Multiply\n",
      "4. Divide\n",
      "5. Quit\n",
      "Enter an option: 4\n",
      "Result: 22.5\n",
      "Enter first number: 2\n",
      "Enter second number: 5\n",
      "\n",
      "Menu:\n",
      "1. Add\n",
      "2. Subtract\n",
      "3. Multiply\n",
      "4. Divide\n",
      "5. Quit\n",
      "Enter an option: 5\n"
     ]
    }
   ],
   "source": [
    "# 17.code to perform mathematical operations. take two numbers from the user and show the below menu\n",
    "# \t1. add,\n",
    "# \t2. sub,\t\n",
    "# \t3. mul,\n",
    "#  \t4.div, \n",
    "# \t5.quit\n",
    "# \tEnter an option:\n",
    "# \t\tbased on the option need to perform an operations\n",
    "\n",
    "def add(a, b):\n",
    "    return a + b\n",
    "\n",
    "def sub(a, b):\n",
    "    return a - b\n",
    "\n",
    "def mul(a, b):\n",
    "    return a * b\n",
    "\n",
    "def div(a, b):\n",
    "    return a / b\n",
    "\n",
    "while True:\n",
    "    num1 = float(input(\"Enter first number: \"))\n",
    "    num2 = float(input(\"Enter second number: \"))\n",
    "    print(\"\\nMenu:\")\n",
    "    print(\"1. Add\")\n",
    "    print(\"2. Subtract\")\n",
    "    print(\"3. Multiply\")\n",
    "    print(\"4. Divide\")\n",
    "    print(\"5. Quit\")\n",
    "    choice = int(input(\"Enter an option: \"))\n",
    "    if choice == 1:\n",
    "        result = add(num1, num2)\n",
    "        print(f\"Result: {result}\")\n",
    "    elif choice == 2:\n",
    "        result = sub(num1, num2)\n",
    "        print(f\"Result: {result}\")\n",
    "    elif choice == 3:\n",
    "        result = mul(num1, num2)\n",
    "        print(f\"Result: {result}\")\n",
    "    elif choice == 4:\n",
    "        result = div(num1, num2)\n",
    "        print(f\"Result: {result}\")\n",
    "    elif choice == 5:\n",
    "        break\n",
    "    else:\n",
    "        print(\"enter valid option\")\n"
   ]
  },
  {
   "cell_type": "code",
   "execution_count": 2,
   "id": "6f1bf850",
   "metadata": {},
   "outputs": [
    {
     "name": "stdout",
     "output_type": "stream",
     "text": [
      "1. Kids\n",
      "2. Men's\n",
      "3. Women's\n",
      "Enter an option:- 1\n",
      "You are a Kid\n"
     ]
    }
   ],
   "source": [
    "# 18. show the menu:\n",
    "#     1. kids\n",
    "#     2. Men's\n",
    "#     3. Women's\n",
    "#     Show the corresponding message based on the selection.\n",
    "#     Option:1: you are a kid\n",
    "#     2: you are a gentlemen\n",
    "#     3: you are a good women\n",
    "#     Mention error message if the option value >3\n",
    "\n",
    "print(\"1. Kids\\n2. Men's\\n3. Women's\")\n",
    "user = input(\"Enter an option:- \")\n",
    "if user == \"1\":\n",
    "    print(\"You are a Kid\")\n",
    "elif user == \"2\":\n",
    "    print(\"You are a gentlemen\")\n",
    "elif user == \"3\":\n",
    "    print(\"You are a good women\")\n",
    "else:\n",
    "    print(\"Error\")"
   ]
  },
  {
   "cell_type": "code",
   "execution_count": 3,
   "id": "df690e8b",
   "metadata": {},
   "outputs": [
    {
     "name": "stdout",
     "output_type": "stream",
     "text": [
      "Enter a string:- gioihkhah\n",
      "Enter a sub-string:- kha\n",
      "YES\n"
     ]
    }
   ],
   "source": [
    "# 19. Write a program to chcek given substring is there in actual string or not?\n",
    "#     example: act=\"python is a pure object oriented programing language\"\n",
    "#     heck whether “pure” is there in act or not.    Note: Use in operator \n",
    "\n",
    "s = input(\"Enter a string:- \")\n",
    "sub_string = input(\"Enter a sub-string:- \")\n",
    "\n",
    "if sub_string in s:\n",
    "    print(\"YES\")\n",
    "else:\n",
    "    print(\"NO\")"
   ]
  },
  {
   "cell_type": "code",
   "execution_count": 4,
   "id": "cfb7f69b",
   "metadata": {},
   "outputs": [
    {
     "name": "stdout",
     "output_type": "stream",
     "text": [
      "enter v1 value: 45\n",
      "enter v2 value: 12\n",
      "enter v3 value: 63\n",
      "63\n"
     ]
    }
   ],
   "source": [
    "#20. Take three numbers from the user and decide which is big \n",
    "v1 = int(input('enter v1 value: '))\n",
    "v2 = int(input('enter v2 value: '))\n",
    "v3 = int(input('enter v3 value: '))\n",
    "big = 0\n",
    "\n",
    "if v1 > v2 and v1 > v3:\n",
    "    big = v1\n",
    "elif v2 > v1 and v2 > v3:\n",
    "    big = v2\n",
    "else:\n",
    "    big = v3\n",
    "print(big)"
   ]
  },
  {
   "cell_type": "code",
   "execution_count": 6,
   "id": "cc434d5b",
   "metadata": {},
   "outputs": [
    {
     "name": "stdout",
     "output_type": "stream",
     "text": [
      "enter age: 45\n",
      "enter  gender male\n",
      "yes you are eligible for marriage in India\n"
     ]
    }
   ],
   "source": [
    "# 21. Take age and gender from the user and decide whether he is eligible for \tmarriage in India or not.\n",
    "# Age criteria: men age>24, women>21 \n",
    "\n",
    "age = int(input('enter age: '))\n",
    "gen = input('enter  gender ')\n",
    "\n",
    "if (gen.upper() == 'MALE' and age > 24) or (gen.upper() == 'FEMALE' and age > 21):\n",
    "    print('yes you are eligible for marriage in India')\n",
    "else:\n",
    "    print(' not eligible')"
   ]
  },
  {
   "cell_type": "code",
   "execution_count": 7,
   "id": "aa12bfb1",
   "metadata": {},
   "outputs": [
    {
     "name": "stdout",
     "output_type": "stream",
     "text": [
      "enter your option men/women: men\n",
      "enter your age: 19\n",
      "you can do theatre\n",
      "you can do voting\n",
      "you can do govt jobs\n",
      "you can do driving licence\n"
     ]
    }
   ],
   "source": [
    "'''Take an age  and gender from the user: and mention that what he/she can \tdo in india.\n",
    "conditions\n",
    "1. Theatre: 5 for men 7 for women\n",
    "2. Voting system: 18 for men and women\n",
    "3. Marriage in india: 23 for men and for women >21\n",
    "4. For govt jobs: (min:18, max:32)  for men and (min:18, max:34) for \twomen\n",
    "5. For driving licence: (min:18, max:60) for men and women\n",
    "Eligibility:\n",
    "1. theatre\n",
    "\t\t\t2.  Voting system\n",
    "\t\t\t3.  Marriage in india\n",
    "\t\t\t4.  For govt obs\n",
    "\t\t\t5. For driving licence:\n",
    "\tEnter an option:\n",
    "\t\tGender:\n",
    "\t\t\t1. men\n",
    "\t\t\t2. women\n",
    "\tEnter an option:\n",
    "\t\tEnter an age of person: '''\n",
    "\n",
    "\n",
    "gen = input('enter your option men/women: ')\n",
    "\n",
    "if gen == 'men':\n",
    "    age = int(input('enter your age: '))\n",
    "    if age >= 5:\n",
    "        print('you can do theatre')\n",
    "    if age >= 18:\n",
    "        print('you can do voting')\n",
    "    if age >= 23:\n",
    "        print('you can do marrige')\n",
    "    if age>17 and age<33:\n",
    "        print('you can do govt jobs')\n",
    "    if age>17 and age<61:\n",
    "        print('you can do driving licence')\n",
    "        \n",
    "if gen == 'women':\n",
    "    age = int(input('enter your age: '))\n",
    "    if age >= 7:\n",
    "        print('you can do theatre')\n",
    "    if age >= 18:\n",
    "        print('you can do voting')\n",
    "    if age >= 21:\n",
    "        print('you can do marrige')\n",
    "    if age>17 and age<33:\n",
    "        print('you can do govt jobs')\n",
    "    if age>17 and age<61:\n",
    "        print('you can do driving licence')        "
   ]
  },
  {
   "cell_type": "code",
   "execution_count": 9,
   "id": "bf3df846",
   "metadata": {},
   "outputs": [
    {
     "name": "stdout",
     "output_type": "stream",
     "text": [
      "Enter an option: 5\n",
      "There is only three floors, please select 1 or 2 or 3\n"
     ]
    }
   ],
   "source": [
    "# 23. operating systems:\n",
    "# 1.windows\n",
    "# \t2.android\n",
    "# \t3.mac\n",
    "# Enter an option:\n",
    "\n",
    "# If the user enters 1 then show \"Goto first floor and buy windows laptop or mobile\"\n",
    "# If the user enters 2 then show \"Goto second floor and buy adroid mobiles\"\n",
    "# If the user enters 3 then show \"Goto third floor and buy mac laptop or iphones\"\n",
    "# If the user enters other than 1 or 2 or 3 then show \"There is only three floors, please select 1 or 2 or 3\" \n",
    "\n",
    "user = int(input(\"Enter an option: \"))\n",
    "if user == 1:\n",
    "    print(\"Goto first floor and buy windows laptop or mobile\")\n",
    "elif user == 2:\n",
    "    print(\"Goto third floor and buy mac laptop or iphones\")\n",
    "elif user == 3:\n",
    "    print(\"Goto third floor and buy mac laptop or iphones\")\n",
    "else:\n",
    "    print(\"There is only three floors, please select 1 or 2 or 3\")"
   ]
  },
  {
   "cell_type": "code",
   "execution_count": 11,
   "id": "63d31e1f",
   "metadata": {},
   "outputs": [
    {
     "name": "stdout",
     "output_type": "stream",
     "text": [
      "Enter your age: 12\n",
      "Child\n"
     ]
    }
   ],
   "source": [
    "#24.Given an age, figure out whether someone's a baby, toddler, child, teenager, adult or old codger. \n",
    "\n",
    "age = int(input(\"Enter your age: \"))\n",
    "if age <= 1:\n",
    "    print(\"bady\")\n",
    "elif age > 1 and age <=5:\n",
    "    print(\"toddler\")\n",
    "elif age > 5 and age <=12:\n",
    "    print(\"Child\")\n",
    "elif age > 13 and age <= 19:\n",
    "    print(\"teenage\")\n",
    "elif age > 20 and age <= 34:\n",
    "    print(\"adult\")\n",
    "elif age >= 60:\n",
    "    print(\"old codger\")\n",
    "else:\n",
    "    print(\"Younger\")"
   ]
  },
  {
   "cell_type": "code",
   "execution_count": 13,
   "id": "d2b7f28b",
   "metadata": {},
   "outputs": [
    {
     "name": "stdout",
     "output_type": "stream",
     "text": [
      "Enter a number1: 45\n",
      "Enter a number2: 12\n",
      "No\n"
     ]
    }
   ],
   "source": [
    "#25.Take two number a,b from the user and check whether a is divisible by b or not \n",
    "\n",
    "a = int(input(\"Enter a number1: \"))\n",
    "b = int(input(\"Enter a number2: \"))\n",
    "\n",
    "if b!= 0:\n",
    "    if a%b == 0:\n",
    "        print(\"Yes\")\n",
    "    else:\n",
    "        print(\"No\")\n",
    "else:\n",
    "    print(\"Zero division error\")"
   ]
  },
  {
   "cell_type": "code",
   "execution_count": 4,
   "id": "e64aeb7c",
   "metadata": {},
   "outputs": [
    {
     "name": "stdout",
     "output_type": "stream",
     "text": [
      "Enter any character only once: gov\n",
      "Lower case\n"
     ]
    }
   ],
   "source": [
    "# '''26. Take a letter from the user and print that letter belongs to which category I.e is it a small letter or capital letter\n",
    "# or number or special symbol '''\n",
    "\n",
    "user = input(\"Enter any character only once: \")\n",
    "if user.isupper():\n",
    "    print(\"Upper case\")\n",
    "elif user.islower():\n",
    "    print(\"Lower case\")\n",
    "elif user.isdigit():\n",
    "    print(\"Number\")\n",
    "else:\n",
    "    print(\"Special character\")"
   ]
  },
  {
   "cell_type": "code",
   "execution_count": 5,
   "id": "660d108e",
   "metadata": {},
   "outputs": [
    {
     "name": "stdout",
     "output_type": "stream",
     "text": [
      "Enter a number: 21\n",
      "21 not prime\n"
     ]
    }
   ],
   "source": [
    "#25. Take a number from the user and check whether it is prime? '''\n",
    "\n",
    "\n",
    "\n",
    "n = int(input(\"Enter a number: \"))\n",
    "\n",
    "if n < 1:\n",
    "    print(n, 'not prime')\n",
    "else:\n",
    "    for i in range(2, n):\n",
    "        if n % i == 0:\n",
    "            print(n, 'not prime')\n",
    "            break\n",
    "    else:\n",
    "        print(n, 'is a prime')\n",
    "    \n"
   ]
  },
  {
   "cell_type": "code",
   "execution_count": 6,
   "id": "ed86ded8",
   "metadata": {},
   "outputs": [
    {
     "name": "stdout",
     "output_type": "stream",
     "text": [
      "Enter input: 56\n",
      "Contain only digits\n"
     ]
    }
   ],
   "source": [
    "#26. Take a string from the user and check contains only digits or not? '''\n",
    "\n",
    "s = input(\"Enter input: \")\n",
    "\n",
    "if s.isdigit():\n",
    "    print(\"Contain only digits\")\n",
    "else:\n",
    "    print(\"Does not contain only digits\")"
   ]
  },
  {
   "cell_type": "code",
   "execution_count": 7,
   "id": "4aadc376",
   "metadata": {},
   "outputs": [
    {
     "name": "stdout",
     "output_type": "stream",
     "text": [
      "Enter input:- j5\n",
      "Does not contains only alphabets\n"
     ]
    }
   ],
   "source": [
    "#27. Take a string from the user and check contains only alphabets or not? '''\n",
    "s = input(\"Enter input:- \")\n",
    "\n",
    "if s.isalpha():\n",
    "    print(\"Contains only alphabets\")\n",
    "else:\n",
    "    print(\"Does not contains only alphabets\")"
   ]
  },
  {
   "cell_type": "code",
   "execution_count": 1,
   "id": "e40e4ae0",
   "metadata": {},
   "outputs": [
    {
     "name": "stdout",
     "output_type": "stream",
     "text": [
      "kahkh$^&\n",
      "Does not contain only special characters\n"
     ]
    }
   ],
   "source": [
    "#28. Take a string from the user and check contains only special chars or not? \n",
    "\n",
    "s = input(\"\")\n",
    "l = len(s)\n",
    "for i in s:\n",
    "    if not i.isalnum():\n",
    "        l -= 1 \n",
    "if l == 0:\n",
    "    print(\"Contains only speical characters\")\n",
    "else:\n",
    "    print(\"Does not contain only special characters\")"
   ]
  },
  {
   "cell_type": "code",
   "execution_count": 3,
   "id": "c14572d0",
   "metadata": {},
   "outputs": [
    {
     "name": "stdout",
     "output_type": "stream",
     "text": [
      "give input : AKhkhklhlhoj\n",
      "string contains capitl letters\n",
      "string contains capitl letters\n"
     ]
    }
   ],
   "source": [
    "#29.take a string from the user and check contains only  capital letters or not?\n",
    "s1 = input('give input : ')\n",
    "for i in s1:\n",
    "    if i.isupper():\n",
    "        print('string contains capitl letters')\n",
    "else :\n",
    "        print('there are no small letters ')"
   ]
  },
  {
   "cell_type": "code",
   "execution_count": 6,
   "id": "7e3baecc",
   "metadata": {},
   "outputs": [
    {
     "name": "stdout",
     "output_type": "stream",
     "text": [
      "give input : Gjkl\n",
      "string contains small letters\n"
     ]
    }
   ],
   "source": [
    "#30.take a string from the user and check contains only  small letters or not?\n",
    "s1 = input('give input : ')\n",
    "c=0\n",
    "for i in s1:\n",
    "    if i.islower():\n",
    "        c+=1\n",
    "    if c>1:\n",
    "        print('string contains small letters')\n",
    "        break  \n",
    "else :\n",
    "        print('there are no small letters ')"
   ]
  },
  {
   "cell_type": "code",
   "execution_count": 15,
   "id": "7c93316d",
   "metadata": {},
   "outputs": [
    {
     "name": "stdout",
     "output_type": "stream",
     "text": [
      "apple,orange,apple,grape,orange,APPLE,APPLE,orange\n"
     ]
    }
   ],
   "source": [
    "# 31. WAP to replace last n occurrence of give string.\n",
    "# For example:”apple,orange,apple,grape,orange,apple,apple,orange”\n",
    "# source: “apple”\n",
    "# last occurrences: 2\n",
    "# replace with: APPLE\n",
    "# output:”apple,orange,apple,grape,orange,APPLE,APPLE,orange”\n",
    "s='apple,orange,apple,grape,orange,apple,apple,orange'\n",
    "list_s=s.split(',')\n",
    "op = list_s[::-1]\n",
    "c = 0\n",
    "for i in range (len(list_s[::-1])):\n",
    "    if op[i] == 'apple':\n",
    "        op[i] = \"APPLE\"\n",
    "        c += 1\n",
    "        if c == 2:\n",
    "            break       \n",
    "        \n",
    "print(\",\".join(op[::-1]))  "
   ]
  },
  {
   "cell_type": "code",
   "execution_count": 16,
   "id": "efe4fc55",
   "metadata": {},
   "outputs": [
    {
     "name": "stdout",
     "output_type": "stream",
     "text": [
      "Enter input: dugiigig12\n",
      "The string does not contain numbers.\n"
     ]
    }
   ],
   "source": [
    "#32. WAP to check given string contains numbers or not. it should consider float numbers also.q\n",
    "\n",
    "# s = eval(input(\"Enter input: \"))\n",
    "# if type(s)==int or type(s)==float:\n",
    "#     print(\"String contains number\")\n",
    "# else:\n",
    "#     print(\"String does not contains number\")    \n",
    "\n",
    "s = input(\"Enter input: \")\n",
    "try:\n",
    "    op = float(s) or int(s)\n",
    "    print('The string contains numbers.')\n",
    "except ValueError:\n",
    "    print(\"The string does not contain numbers.\")\n"
   ]
  },
  {
   "cell_type": "code",
   "execution_count": 19,
   "id": "b20e4545",
   "metadata": {},
   "outputs": [
    {
     "name": "stdout",
     "output_type": "stream",
     "text": [
      "Enter input: Gkklj45\n",
      "gkklj45\n"
     ]
    }
   ],
   "source": [
    "#33. Convert the total string in to lower case. Without using lower() function.\n",
    "s = input(\"Enter input: \")\n",
    "op = \"\"\n",
    "for i in s:\n",
    "    if i.isupper():\n",
    "        op += chr((ord(i))+32)\n",
    "    else :\n",
    "        op+=i\n",
    "print(op)"
   ]
  },
  {
   "cell_type": "code",
   "execution_count": null,
   "id": "f8543878",
   "metadata": {},
   "outputs": [
    {
     "name": "stdout",
     "output_type": "stream",
     "text": [
      "\tMenu: \n",
      "1.windows\n",
      "2.Linux\n",
      "3.Mac\n",
      "4.quit\n",
      "Enter input:- 5\n",
      "enter corresponding number\n",
      "\tMenu: \n",
      "1.windows\n",
      "2.Linux\n",
      "3.Mac\n",
      "4.quit\n"
     ]
    }
   ],
   "source": [
    "\n",
    "# 35. Show the below menu to the user until and until user select quit and display corresponding os message\n",
    "#       Menu:\n",
    "\n",
    "#         1. windows\n",
    "#         2. Linux\n",
    "#         3. Mac\n",
    "#         4. quit\n",
    "\n",
    "\n",
    "while True:\n",
    "    print(\"\\tMenu: \\n1.windows\\n2.Linux\\n3.Mac\\n4.quit\")\n",
    "    user = int(input(\"Enter input:- \"))\n",
    "    if user == 1:\n",
    "        print(\"window\")\n",
    "    elif user == 2:\n",
    "        print(\"linux\")\n",
    "    elif user == 3:\n",
    "        print(\"mac\")\n",
    "    elif user == 4:\n",
    "        print(\"quit\")\n",
    "        break\n",
    "    else:\n",
    "        print(\"enter corresponding number\")"
   ]
  },
  {
   "cell_type": "code",
   "execution_count": 10,
   "id": "132fbf87",
   "metadata": {},
   "outputs": [
    {
     "name": "stdout",
     "output_type": "stream",
     "text": [
      "Enter input: GJ 12#$a\n",
      "String contains atleast one digit\n"
     ]
    }
   ],
   "source": [
    "#36. Take a string from the user and check contains at least one digit or not?\n",
    "s = input(\"Enter input: \")\n",
    "\n",
    "for i in s:\n",
    "    if i.isdigit():\n",
    "        print(\"String contains atleast one digit\")\n",
    "        break\n",
    "else:\n",
    "    print(\"String does not contains digit\")"
   ]
  },
  {
   "cell_type": "code",
   "execution_count": 9,
   "id": "76123b31",
   "metadata": {},
   "outputs": [
    {
     "name": "stdout",
     "output_type": "stream",
     "text": [
      "Enter input: Go9866\n",
      "String contains atleast one alphabets\n"
     ]
    }
   ],
   "source": [
    "#37. Take a string from the user and check contains at least one alphabets or not?\n",
    "\n",
    "s = input(\"Enter input: \")\n",
    "if s.isalnum():\n",
    "        print(\"String contains atleast one alphabets\")\n",
    "# for i in s:\n",
    "#     if i.isalpha():\n",
    "#         print(\"String contains atleast one alphabets\")\n",
    "#         break\n",
    "else:\n",
    "    print(\"String does not contains atleat one alphabets\")"
   ]
  },
  {
   "cell_type": "code",
   "execution_count": 11,
   "id": "19be3548",
   "metadata": {},
   "outputs": [
    {
     "name": "stdout",
     "output_type": "stream",
     "text": [
      "Enter input: Gk 2#$a\n",
      "String contains atleast one alphabets\n"
     ]
    }
   ],
   "source": [
    "s = input(\"Enter input: \")\n",
    "for i in s:\n",
    "    if i.isalpha():\n",
    "        print(\"String contains atleast one alphabets\")\n",
    "        break\n",
    "else:\n",
    "    print(\"String does not contains atleat one alphabets\")"
   ]
  },
  {
   "cell_type": "code",
   "execution_count": 12,
   "id": "f072bbd8",
   "metadata": {},
   "outputs": [
    {
     "name": "stdout",
     "output_type": "stream",
     "text": [
      "Enter input: \n",
      "String does not contains at least one chars\n"
     ]
    }
   ],
   "source": [
    "# 38. Take a string from the user and check contains at least one chars or not?\n",
    "\n",
    "s = input(\"Enter input: \")\n",
    "\n",
    "if len(s) >= 1:\n",
    "    print(\"String contains at least one chars\")\n",
    "else: \n",
    "    print(\"String does not contains at least one chars\")"
   ]
  },
  {
   "cell_type": "code",
   "execution_count": 13,
   "id": "287ef693",
   "metadata": {},
   "outputs": [
    {
     "name": "stdout",
     "output_type": "stream",
     "text": [
      "Enter input:- jhj\n",
      "String does not contains at least one capital letter\n"
     ]
    }
   ],
   "source": [
    "# 39. Take a string from the user and check contains at least one capital letter or not?\n",
    "\n",
    "s = input(\"Enter input:- \")\n",
    "\n",
    "for i in s:\n",
    "    if i.isupper():\n",
    "        print(\"String contains at least one capital letter\")\n",
    "        break\n",
    "else:\n",
    "    print(\"String does not contains at least one capital letter\")"
   ]
  },
  {
   "cell_type": "code",
   "execution_count": 14,
   "id": "31d14b39",
   "metadata": {},
   "outputs": [
    {
     "name": "stdout",
     "output_type": "stream",
     "text": [
      "Enter input:- JHKHK\n",
      "String does not contains at least one lower letter\n"
     ]
    }
   ],
   "source": [
    "# 40. Take a string from the user and check contains at least one small letter or not?\n",
    "\n",
    "s = input(\"Enter input:- \")\n",
    "\n",
    "for i in s:\n",
    "    if i.islower():\n",
    "        print(\"String contains at least one lower letter\")\n",
    "        break\n",
    "else:\n",
    "    print(\"String does not contains at least one lower letter\")"
   ]
  },
  {
   "cell_type": "code",
   "execution_count": 17,
   "id": "456e20d3",
   "metadata": {},
   "outputs": [
    {
     "name": "stdout",
     "output_type": "stream",
     "text": [
      "1 3 5 7 9 11 13 15 17 19 21 23 25 27 29 31 33 35 37 39 41 43 45 47 49 51 53 55 57 59 61 63 65 67 69 71 73 75 77 79 81 83 85 87 89 91 93 95 97 99 101 103 105 107 109 111 113 115 117 119 121 123 125 127 129 131 133 135 137 139 141 143 145 147 149 151 153 155 157 159 161 163 165 167 169 171 173 175 177 179 181 183 185 187 189 191 193 195 197 199 "
     ]
    }
   ],
   "source": [
    "# 41. Print the first 100 odd numbers\n",
    "count = 0\n",
    "number = 1\n",
    "\n",
    "while count < 100:\n",
    "    if number % 2 != 0:\n",
    "        print(number, end=' ')\n",
    "        count += 1\n",
    "    number += 1\n",
    "    "
   ]
  },
  {
   "cell_type": "code",
   "execution_count": 18,
   "id": "8d208166",
   "metadata": {},
   "outputs": [
    {
     "name": "stdout",
     "output_type": "stream",
     "text": [
      "enter some number: 10\n",
      "1\n",
      "2\n",
      "5\n",
      "10\n"
     ]
    }
   ],
   "source": [
    "# 42. Determine the factors of a number entered by the user\n",
    "n = int(input('enter some number: '))\n",
    "for i in range(1, n+1):\n",
    "    if n%i == 0:\n",
    "        print(i)"
   ]
  },
  {
   "cell_type": "code",
   "execution_count": 20,
   "id": "2a0e4dee",
   "metadata": {},
   "outputs": [
    {
     "name": "stdout",
     "output_type": "stream",
     "text": [
      "(COMPARE YOUR NUM WITH GIVEN NUMBER IF GIVEN NUM IS HIGH PRINT HIGH)\n",
      "50\n",
      "type low, high , yes  : low\n",
      "(COMPARE YOUR NUM WITH GIVEN NUMBER IF GIVEN NUM IS HIGH PRINT HIGH)\n",
      "75\n",
      "type low, high , yes  : yes\n",
      "75\n"
     ]
    }
   ],
   "source": [
    "# 43. Play a number guessing game (User enters a guess, you print YES or Higher or Lower). This\n",
    "# should continue until and until user gives a correct number or want to quit in the middle.\n",
    "# Get a hidden number by using random.randint(1,100)\n",
    "\n",
    "start = 1\n",
    "end = 100\n",
    "\n",
    "while True:\n",
    "    print('(COMPARE YOUR NUM WITH GIVEN NUMBER IF GIVEN NUM IS HIGH PRINT HIGH)')\n",
    "    result = (start+end)//2\n",
    "    print(result)\n",
    "    output = input(\"type low, high , yes  : \")\n",
    "    if output == \"low\":\n",
    "        start = result\n",
    "    if output == \"high\":\n",
    "        end = result\n",
    "    if output == \"yes\":\n",
    "        print(result)\n",
    "        break\n"
   ]
  },
  {
   "cell_type": "code",
   "execution_count": 21,
   "id": "6cd89808",
   "metadata": {},
   "outputs": [
    {
     "name": "stdout",
     "output_type": "stream",
     "text": [
      "Enter  number: 45\n",
      "Enter  number: 6\n",
      "a is not divisible by b\n"
     ]
    }
   ],
   "source": [
    "#44. Take two numbers from the user a,b check whether a is divisible by b or not?\n",
    "\n",
    "a=int(input(\"Enter  number: \"))\n",
    "b=int(input(\"Enter  number: \"))\n",
    "\n",
    "if a%b == 0:\n",
    "    print(\"a is divisible by b\")\n",
    "else:\n",
    "    print(\"a is not divisible by b\")"
   ]
  },
  {
   "cell_type": "code",
   "execution_count": 24,
   "id": "2ef1daa6",
   "metadata": {},
   "outputs": [
    {
     "name": "stdout",
     "output_type": "stream",
     "text": [
      "The sum of all the multiples of 3 or 5 below 1000 is= 233168\n"
     ]
    }
   ],
   "source": [
    "#45. Find the sum of all the multiples of 3 or 5 below 1000\n",
    "\n",
    "op = 0\n",
    "for i in range(1,1000):\n",
    "    if i%3==0 or i%5==0:\n",
    "        op += i\n",
    "print(\"The sum of all the multiples of 3 or 5 below 1000 is=\",op)"
   ]
  },
  {
   "cell_type": "code",
   "execution_count": 25,
   "id": "2c4db2d7",
   "metadata": {},
   "outputs": [
    {
     "name": "stdout",
     "output_type": "stream",
     "text": [
      "Enter  number: 45\n",
      "Enter number: 2\n",
      "45 is big\n"
     ]
    }
   ],
   "source": [
    "#46. Write a program to find out big of two numbers\n",
    "\n",
    "a=int(input(\"Enter  number: \"))\n",
    "b=int(input(\"Enter number: \"))\n",
    "if a>b:\n",
    "    print(\"{} is big\".format(a))\n",
    "else:\n",
    "    print(\"{} is big\".format(b))"
   ]
  },
  {
   "cell_type": "code",
   "execution_count": 28,
   "id": "8bd0540c",
   "metadata": {},
   "outputs": [
    {
     "name": "stdout",
     "output_type": "stream",
     "text": [
      "The biggest number in the given numbers is= 704\n",
      "The smallest number in the given numbers is= 0\n"
     ]
    }
   ],
   "source": [
    "#47. Write a program to find out biggest number in the given numbers.\n",
    "\n",
    "a=[1,42,36,704,0,47]\n",
    "ma=0\n",
    "mi = a[0]\n",
    "for i in a:\n",
    "    if int(i)>ma:\n",
    "        ma=i\n",
    "print(\"The biggest number in the given numbers is=\",ma)\n",
    "for i in a:\n",
    "    if int(i)<mi:\n",
    "        mi=i\n",
    "print(\"The smallest number in the given numbers is=\",mi)"
   ]
  },
  {
   "cell_type": "code",
   "execution_count": 29,
   "id": "3b87bb54",
   "metadata": {},
   "outputs": [
    {
     "name": "stdout",
     "output_type": "stream",
     "text": [
      "Enter any string: gkgkkjhkh\n",
      "3rd occurance of the string=g\n"
     ]
    }
   ],
   "source": [
    "#48. find out the index of third occurrence of given substring\n",
    "\n",
    "s = input(\"Enter any string: \")\n",
    "n = 3\n",
    "print(\"{}rd occurance of the string={}\".format(n,s[n-1]))"
   ]
  },
  {
   "cell_type": "code",
   "execution_count": 30,
   "id": "9a647074",
   "metadata": {},
   "outputs": [
    {
     "name": "stdout",
     "output_type": "stream",
     "text": [
      "Enter any string: klljk\n",
      "Enter index number: 2\n",
      "2 occurance of the string is=l\n"
     ]
    }
   ],
   "source": [
    "#49. find out the index nth occurrence of given substring\n",
    "\n",
    "s = input(\"Enter any string: \")\n",
    "n=int(input(\"Enter index number: \"))\n",
    "print(\"{} occurance of the string is={}\".format(n,s[n-1]))"
   ]
  },
  {
   "cell_type": "code",
   "execution_count": 36,
   "id": "0b0f58f0",
   "metadata": {},
   "outputs": [
    {
     "name": "stdout",
     "output_type": "stream",
     "text": [
      "enter numbers other wise quit:45\n",
      "enter numbers other wise quit:1\n",
      "enter numbers other wise quit:2\n",
      "enter numbers other wise quit:0\n",
      "enter numbers other wise quit:3\n",
      "enter numbers other wise quit:j4\n",
      "The sum of given numbers are= 51\n",
      "The maximum number of the given number is= 45\n",
      "The minimum number of the given number is= 0\n",
      "The average value of the given numbers is= 10.2\n"
     ]
    }
   ],
   "source": [
    "#50. Take some single digit numbers from the user and findout min, maximum, sum, average\n",
    "a=[]\n",
    "while True:\n",
    "    n=input('enter numbers other wise quit:')\n",
    "    if n=='' or not n.isdigit():\n",
    "        break\n",
    "    a.append(int(n))\n",
    "    \n",
    "op=0\n",
    "ma=0\n",
    "mi=a[0]\n",
    "for i in a:\n",
    "    op += i\n",
    "    if int(i)>ma:\n",
    "        ma=i\n",
    "    if int(i)<mi:\n",
    "        mi=i\n",
    "    avg=op/len(a)\n",
    "print(\"The sum of given numbers are=\",op)\n",
    "print(\"The maximum number of the given number is=\",ma)\n",
    "print(\"The minimum number of the given number is=\",mi)\n",
    "print(\"The average value of the given numbers is=\",avg)\n"
   ]
  },
  {
   "cell_type": "code",
   "execution_count": 38,
   "id": "bf7e245c",
   "metadata": {},
   "outputs": [
    {
     "name": "stdout",
     "output_type": "stream",
     "text": [
      "enter some number: 563\n",
      "000563\n"
     ]
    }
   ],
   "source": [
    "# 51. print the number in proper mathematical way.\n",
    "# \tConsider that we have 6 digit numbers.\n",
    "# Number format  WAP> 10 -> 000010\n",
    "#        \t\t100 ->  000100\n",
    "#       \t\t1000 ->  001000\n",
    "#  \t\t 2345678  ->  2345678\n",
    "\n",
    "n = int(input('enter some number: '))\n",
    "res = str(n).zfill(6)\n",
    "print(res)"
   ]
  },
  {
   "cell_type": "code",
   "execution_count": 39,
   "id": "4c0b8af4",
   "metadata": {},
   "outputs": [
    {
     "name": "stdout",
     "output_type": "stream",
     "text": [
      "emp1\n",
      "emp2\n",
      "emp3\n",
      "emp4\n"
     ]
    }
   ],
   "source": [
    "#52. names  =\"emp1,emp2,emp3,emp4\" iterate through the employee names.\n",
    "\n",
    "names = \"emp1,emp2,emp3,emp4\"\n",
    "for i in names.split(','):\n",
    "    print(i)"
   ]
  },
  {
   "cell_type": "code",
   "execution_count": 42,
   "id": "c1179873",
   "metadata": {},
   "outputs": [
    {
     "name": "stdout",
     "output_type": "stream",
     "text": [
      "enter some noccurence  count: 3\n",
      "happyynewyear\n"
     ]
    }
   ],
   "source": [
    "# 53. Take actual string, source string, destination string. replce first nth occurrences of source string\n",
    "# with destination string of actual string.\n",
    "\n",
    "act = 'happynewyear'\n",
    "sou = 'happy'\n",
    "occ = int(input('enter some noccurence  count: '))\n",
    "des = sou + act[(occ+1):]\n",
    "print(des)\n",
    "             "
   ]
  },
  {
   "cell_type": "code",
   "execution_count": 2,
   "id": "8d34b4f5",
   "metadata": {},
   "outputs": [
    {
     "name": "stdout",
     "output_type": "stream",
     "text": [
      "Enter first number: 45\n",
      "Enter second number: 2\n",
      "Select operation:\n",
      "1. Addition\n",
      "2. Multiplication\n",
      "3. Division\n",
      "4. Square root\n",
      "5. Power\n",
      "6. Subtraction\n",
      "Enter choice (1-6): 4\n",
      "Square root of num1: 6.708203932499369\n",
      "Square root of num2: 1.4142135623730951\n"
     ]
    }
   ],
   "source": [
    "# 54. Take a two numbers from the user and do below menu driven operations\n",
    "# 1. addition\n",
    "# 2. multiples\n",
    "# 3.division\n",
    "# 4.sqrt\n",
    "# 5. pow a**b\n",
    "# 6.subtraction\n",
    "# After selection do the corresponding operation.\n",
    "\n",
    "import math\n",
    "def add(a, b):\n",
    "    return a + b\n",
    "def multiply(a, b):\n",
    "    return a * b\n",
    "def divide(a, b):\n",
    "    if b != 0:\n",
    "        return a / b\n",
    "    else:\n",
    "        return \"Cannot divide by zero\"\n",
    "def square_root(a):\n",
    "    return math.sqrt(a)\n",
    "def power(a, b):\n",
    "    return a ** b\n",
    "def subtract(a, b):\n",
    "    return a - b\n",
    "num1 = float(input(\"Enter first number: \"))\n",
    "num2 = float(input(\"Enter second number: \"))\n",
    "print(\"Select operation:\")\n",
    "print(\"1. Addition\")\n",
    "print(\"2. Multiplication\")\n",
    "print(\"3. Division\")\n",
    "print(\"4. Square root\")\n",
    "print(\"5. Power\")\n",
    "print(\"6. Subtraction\")\n",
    "choice = int(input(\"Enter choice (1-6): \"))\n",
    "if choice == 1:\n",
    "    print(\"Result:\", add(num1, num2))\n",
    "elif choice == 2:\n",
    "    print(\"Result:\", multiply(num1, num2))\n",
    "elif choice == 3:\n",
    "    print(\"Result:\", divide(num1, num2))\n",
    "elif choice == 4:\n",
    "    print(\"Square root of num1:\", square_root(num1))\n",
    "    print(\"Square root of num2:\", square_root(num2))\n",
    "elif choice == 5:\n",
    "    print(\"Result:\", power(num1, num2))\n",
    "elif choice == 6:\n",
    "    print(\"Result:\", subtract(num1, num2))\n",
    "else:\n",
    "    print(\"Invalid input\")\n"
   ]
  },
  {
   "cell_type": "code",
   "execution_count": 4,
   "id": "d172933e",
   "metadata": {},
   "outputs": [
    {
     "name": "stdout",
     "output_type": "stream",
     "text": [
      "Enter any numbers: 45 23 63 12 47 12 12 12\n",
      "The maximum value of the given numbers are= 63\n",
      "The minimum value of the given numbers are= 12\n",
      "The sum of the given list is= 226\n",
      "The average value of the given list is= 28.25\n"
     ]
    }
   ],
   "source": [
    "#55. Take numbers from the user and find out min, maximum, sum, average\n",
    "\n",
    "a=[int(i) for i in input(\"Enter any numbers: \").split(' ')]\n",
    "ma=0\n",
    "mi=a[0]\n",
    "summ=0\n",
    "for i in a:\n",
    "    if i>ma:\n",
    "        ma=i\n",
    "    elif i<mi:\n",
    "        mi=i\n",
    "    summ +=i\n",
    "    avg=summ/len(a)\n",
    "print(\"The maximum value of the given numbers are=\",ma)\n",
    "print(\"The minimum value of the given numbers are=\",mi)\n",
    "print(\"The sum of the given list is=\",summ)\n",
    "print(\"The average value of the given list is=\",avg)"
   ]
  },
  {
   "cell_type": "code",
   "execution_count": 5,
   "id": "6c486415",
   "metadata": {},
   "outputs": [
    {
     "name": "stdout",
     "output_type": "stream",
     "text": [
      "The no of even numbers are= 4\n",
      "The no of odd numbers are= 4\n",
      "The no of positive numbers are= 8\n",
      "The no of negative numbers are= 0\n",
      "The no of prime numbers are= 2\n",
      "The no of perfect numbers are= 0\n",
      "The no of armstrong numbers are= 0\n",
      "The no of palindrome numbers are= 0\n"
     ]
    }
   ],
   "source": [
    "# 56. l=[1,2,3,5,7,8,9,10,11,12,13,20,22,23,24,25,26,27,20,21,22,4] \n",
    "# find out how many even numbers are there and how many odd numbers are there\n",
    "# and how many positive numbers are there and how many negative numbers are there \n",
    "# and how many prime numbers are there and how many perfect numbers are there and \n",
    "# how many Armstrong numbers are there and how many palindrome numbers are there.\n",
    "\n",
    "l = [1,2,3,5,7,8,9,10,11,12,13,20,22,23,24,25,26,27,20,21,22,4]\n",
    "even=0\n",
    "odd=0\n",
    "positive=0\n",
    "negative=0\n",
    "prime=0\n",
    "summ=0\n",
    "perfect=0\n",
    "armstrong=0\n",
    "palindrome=0\n",
    "for i in a:\n",
    "    if i%2==0:\n",
    "        even += 1\n",
    "    else:\n",
    "        odd += 1\n",
    "    if i>0:\n",
    "        positive += 1\n",
    "    else:\n",
    "        negative += 1\n",
    "    if i>1:\n",
    "        for j in range(2,i//2):\n",
    "            if i%j==0:\n",
    "                break\n",
    "        else:\n",
    "            prime +=1\n",
    "    summm=0\n",
    "    for j in range(1,i):\n",
    "        if j%i==0:\n",
    "            summm +=i\n",
    "    if i==summm:\n",
    "        perfect +=1\n",
    "    p=len(str(i))\n",
    "    summ=0\n",
    "    for j in str(i):\n",
    "        summ=summ+int(j)**p\n",
    "    i=int(i)\n",
    "    if(i==summ):\n",
    "        armstrong +=1\n",
    "    if str(i)==str(i)[::-1]:\n",
    "        palindrome +=1\n",
    "print(\"The no of even numbers are=\",even)\n",
    "print(\"The no of odd numbers are=\",odd)\n",
    "print(\"The no of positive numbers are=\",positive)\n",
    "print(\"The no of negative numbers are=\",negative)\n",
    "print(\"The no of prime numbers are=\",prime)\n",
    "print(\"The no of perfect numbers are=\",perfect)\n",
    "print(\"The no of armstrong numbers are=\",armstrong)\n",
    "print(\"The no of palindrome numbers are=\",palindrome)\n",
    "\n",
    "\n"
   ]
  },
  {
   "cell_type": "code",
   "execution_count": 6,
   "id": "23a6123d",
   "metadata": {},
   "outputs": [
    {
     "name": "stdout",
     "output_type": "stream",
     "text": [
      "Enter any string that should contain digits,symbols,small case and upper case letters: Govardhan986!@#$\n",
      "no of digits are= 3\n",
      "no of special characters are= 4\n",
      "no of lower case letters are= 8\n",
      "no of upper case letters are= 1\n"
     ]
    }
   ],
   "source": [
    "# 57. Take a string from the user and find out how many digits are there, how many special\n",
    "# symbols are there, how many small letters are there, how many caps are there.\n",
    "\n",
    "a=input(\"Enter any string that should contain digits,symbols,small case and upper case letters: \")\n",
    "digits=0\n",
    "special_characters=0\n",
    "lower_case=0\n",
    "upper_case=0\n",
    "for i in a:\n",
    "    if i.isdigit():\n",
    "        digits+=1\n",
    "    elif i.islower():\n",
    "        lower_case+=1\n",
    "    elif i.isupper():\n",
    "        upper_case+=1\n",
    "    else:\n",
    "        special_characters+=1\n",
    "print(\"no of digits are=\",digits)\n",
    "print(\"no of special characters are=\",special_characters)\n",
    "print(\"no of lower case letters are=\",lower_case)\n",
    "print(\"no of upper case letters are=\",upper_case)"
   ]
  },
  {
   "cell_type": "code",
   "execution_count": 10,
   "id": "69289dbb",
   "metadata": {},
   "outputs": [
    {
     "name": "stdout",
     "output_type": "stream",
     "text": [
      "['l', 'j', 'g', 'a', 'k', 'h', 'k', 'h', 'k', 'h', 'k', 'l', 'j', 'a', 'j', 'j', 'a', 'a', 'a', 'a', 'b', 'n', 'c', 'v', 'i']\n",
      "Enter  element k\n",
      "4\n"
     ]
    }
   ],
   "source": [
    "# 59. Take a element from the user and find out how many times the element occurred in given list\n",
    "a=list('ljgakhkhkhkljajjaaaabncvi')\n",
    "print(a)\n",
    "b=input(\"Enter  element \")\n",
    "count=0\n",
    "print(a.count(b))"
   ]
  },
  {
   "cell_type": "code",
   "execution_count": 13,
   "id": "92ee7e4a",
   "metadata": {},
   "outputs": [
    {
     "name": "stdout",
     "output_type": "stream",
     "text": [
      "Enter  element:a\n",
      "4\n"
     ]
    }
   ],
   "source": [
    "#60. Take an element from the user and find out how many number of occurrences are there in given tuple\n",
    "a=tuple('abcdabdcaadbdb')\n",
    "b=input(\"Enter  element:\")\n",
    "count=0\n",
    "print(a.count(b))\n"
   ]
  },
  {
   "cell_type": "code",
   "execution_count": 13,
   "id": "1b357bb5",
   "metadata": {},
   "outputs": [
    {
     "name": "stdout",
     "output_type": "stream",
     "text": [
      "&*(54l$kjcba^^%\n",
      "&*(54l$kjcba^^%\n"
     ]
    }
   ],
   "source": [
    "# 61. Reverse the string without effecting the special symbols. It involves three variations. Write\n",
    "# code for three variations.\n",
    "s='&*(abc$jkl45^^%'\n",
    "ns=[]\n",
    "l=[]\n",
    "strg=''\n",
    "for i in enumerate(s) :\n",
    "    if i[1].isalnum():\n",
    "        ns.insert(0,i[1])\n",
    "    else :\n",
    "        l.append(i)\n",
    "else :\n",
    "    for i in l:\n",
    "        ns.insert(i[0],i[1])\n",
    "for i in ns:\n",
    "    strg+=i\n",
    "print(strg)\n",
    "#2ns variations\n",
    "op = ''\n",
    "for i in s:\n",
    "    if i.isalnum():\n",
    "        op += i\n",
    "\n",
    "op1 = op[::-1]\n",
    "res = ''\n",
    "j = 0\n",
    "for i in range(len(s)):\n",
    "    if not s[i].isalnum():\n",
    "        res += s[i]\n",
    "    else:\n",
    "        if j < len(op1):\n",
    "            res += op1[j]\n",
    "            j += 1\n",
    "\n",
    "print(res)\n",
    "# jk=''\n",
    "\n",
    "# for i in s:\n",
    "#     if i.isalnum():\n",
    "#         jk=i+jk\n",
    "# res=''\n",
    "# for i in s:\n",
    "#     if not i.isalnum():\n",
    "#             res+=i\n",
    "            \n",
    "#     else :\n",
    "#         res+=jk[]"
   ]
  },
  {
   "cell_type": "code",
   "execution_count": 1,
   "id": "922819e7",
   "metadata": {},
   "outputs": [
    {
     "name": "stdout",
     "output_type": "stream",
     "text": [
      "#$321cba\n",
      "$%^987%$^6fed54$\n"
     ]
    }
   ],
   "source": [
    "#           62.Input: abc123,#$45def6%$^789$%^,\n",
    "                    #output:               $%^987%$^6fed54     ,#$321cba\n",
    "#          63.Input: abc123,#$45def6%$^789$%^, output: 9876fe,#$d54321%$^cba$%^\n",
    "\n",
    "st1='abc123'\n",
    "st2='#$45def6%$^789$%^'\n",
    "j=''\n",
    "s=\"#$\"\n",
    "for i in st1:\n",
    "    j=i+j\n",
    "else :\n",
    "    if '#$' in st2:\n",
    "        j='#$'+j\n",
    "print(j)\n",
    "l='%$^'\n",
    "z=''\n",
    "k=''                #$45def6%$^789$%^\n",
    "for i in st2:     # $%^987%$^6fed54\n",
    "    if i in l:     \n",
    "        k+=i\n",
    "    else :\n",
    "        if i not in s:\n",
    "            z=k+z\n",
    "            k=''\n",
    "            z=i+z\n",
    "else :\n",
    "    z=k+z\n",
    "print(z)"
   ]
  },
  {
   "cell_type": "code",
   "execution_count": 2,
   "id": "36a8b31c",
   "metadata": {},
   "outputs": [
    {
     "name": "stdout",
     "output_type": "stream",
     "text": [
      "321,#$654%$^987$%^\n"
     ]
    }
   ],
   "source": [
    "# '\\64.Inout: \"123,#$456%$^789$%^\", Output: 321,#$654%$^987$%^\n",
    "# \t\tOnly numbers has to reverse.\n",
    " \n",
    "    \n",
    "s = \"123,#$456%$^789$%^\"\n",
    "op = ''\n",
    "tem = ''\n",
    "for i in s:\n",
    "    if i.isdigit():\n",
    "        tem += i\n",
    "    else:\n",
    "        op += tem[::-1] + i\n",
    "        tem = ''\n",
    "print(op)\n"
   ]
  },
  {
   "cell_type": "code",
   "execution_count": 4,
   "id": "8cd96629",
   "metadata": {},
   "outputs": [
    {
     "name": "stdout",
     "output_type": "stream",
     "text": [
      "govardhan 25\n",
      "175\n",
      "66\n",
      "('adhar', '8464642356')\n",
      "('cell', '682510238')\n"
     ]
    }
   ],
   "source": [
    "'''65. define a function to take person details name and age are mandatory \n",
    "parameters and height weight are optional parameters. If the user willing to \n",
    "pass any other details(like adhar, cell, pan, passport etc..) regarding him then \n",
    "your function should access those details.'''\n",
    "\n",
    "def func(name, age, height = None, weight = None, **kwargs):\n",
    "    print(name, age)\n",
    "    if height is not None:\n",
    "        print(height)\n",
    "    if weight is not None:\n",
    "        print(weight)\n",
    "    for i in kwargs.items():\n",
    "        print(i)\n",
    "func(\"govardhan\", 25, height=175, weight=66, adhar=\"8464642356\", cell=\"682510238\")\n"
   ]
  },
  {
   "cell_type": "code",
   "execution_count": 5,
   "id": "74e374e8",
   "metadata": {},
   "outputs": [
    {
     "name": "stdout",
     "output_type": "stream",
     "text": [
      "Enter any number: 561\n",
      "The given value is not a even number\n"
     ]
    }
   ],
   "source": [
    "# 65a. rewrite above assignments by functions. Can use string functions to solve the string related assignments\n",
    "def even(a):\n",
    "    if a%2==0:\n",
    "        print(\"The given value is a even number\")\n",
    "    else:\n",
    "        print(\"The given value is not a even number\")\n",
    "n=int(input(\"Enter any number: \"))\n",
    "even(n)"
   ]
  },
  {
   "cell_type": "code",
   "execution_count": 6,
   "id": "16477bc6",
   "metadata": {},
   "outputs": [
    {
     "name": "stdout",
     "output_type": "stream",
     "text": [
      "Enter any number: 235\n",
      "235 is not a prime number\n"
     ]
    }
   ],
   "source": [
    "# 65 c. write a function to check given value is prime or not\n",
    "def prime(n):\n",
    "    if n>1:\n",
    "        for i in range(2,n//2):\n",
    "            if n%i == 0:\n",
    "                print(\"{} is not a prime number\".format(n))\n",
    "                break\n",
    "        else:\n",
    "            print(\"{} is a prime number\".format(n))\n",
    "    else:\n",
    "        print(\"{} is not a prime number\".format(n))\n",
    "a=int(input(\"Enter any number: \"))\n",
    "prime(a)"
   ]
  },
  {
   "cell_type": "code",
   "execution_count": 1,
   "id": "e07eb89b",
   "metadata": {},
   "outputs": [
    {
     "name": "stdout",
     "output_type": "stream",
     "text": [
      "Enter any number: 4\n",
      "Enter any number: 12\n",
      "The given two values are divisible\n"
     ]
    }
   ],
   "source": [
    "# 65 d. write a function to check given 2 values are divisible or not\n",
    "def check(a,b):\n",
    "    if a%b == 0 or b%a==0:\n",
    "        print(\"The given two values are divisible\")\n",
    "    else:\n",
    "        print(\"The given two values are not divisible\")\n",
    "        \n",
    "x=int(input(\"Enter any number: \"))\n",
    "y=int(input(\"Enter any number: \"))\n",
    "check(x,y)"
   ]
  },
  {
   "cell_type": "code",
   "execution_count": 3,
   "id": "4ac74f6f",
   "metadata": {},
   "outputs": [
    {
     "name": "stdout",
     "output_type": "stream",
     "text": [
      "Enter  string: kjhkh45\n",
      "The given string does not contain only alphabets\n"
     ]
    }
   ],
   "source": [
    "# 68. take a string from the user and check contains only alphabets or not?\n",
    "a=input(\"Enter  string: \")\n",
    "if all(a.isalpha() for i in a):\n",
    "    print(\"The given string contains only alphabets\")\n",
    "else:\n",
    "    print(\"The given string does not contain only alphabets\")"
   ]
  },
  {
   "cell_type": "code",
   "execution_count": 4,
   "id": "9c93c3b7",
   "metadata": {},
   "outputs": [
    {
     "name": "stdout",
     "output_type": "stream",
     "text": [
      "Enter any string: #$%^^\n",
      "The given string contains only special characters\n"
     ]
    }
   ],
   "source": [
    "# 69. take a string from the user and check contains only special chars or not?\n",
    "a=input(\"Enter any string: \")\n",
    "if all(not i.isalnum() for i in a):\n",
    "    print(\"The given string contains only special characters\")\n",
    "else:\n",
    "    print(\"The given string does not contain only special characters\")"
   ]
  },
  {
   "cell_type": "code",
   "execution_count": 5,
   "id": "7617b1fe",
   "metadata": {},
   "outputs": [
    {
     "name": "stdout",
     "output_type": "stream",
     "text": [
      "Enter any string: iuihoi\n",
      "The given string does not contains only upper case letters\n"
     ]
    }
   ],
   "source": [
    "# 70. take a string from the user and check contains only capital letters or not?\n",
    "a=input(\"Enter any string: \")\n",
    "if a.isupper():\n",
    "    print(\"The given string contains only upper case letters\")\n",
    "else:\n",
    "    print(\"The given string does not contains only upper case letters\")"
   ]
  },
  {
   "cell_type": "code",
   "execution_count": 6,
   "id": "9df0702d",
   "metadata": {},
   "outputs": [
    {
     "name": "stdout",
     "output_type": "stream",
     "text": [
      "Enter any string=JKkllk\n",
      "The given string does not contain only small case letters\n"
     ]
    }
   ],
   "source": [
    "# 71. take a string from the user and check contains only small letters or not?\n",
    "a=input(\"Enter any string=\")\n",
    "if a.islower():\n",
    "    print(\"The given string contains only small case letters\")\n",
    "else:\n",
    "    print(\"The given string does not contain only small case letters\")"
   ]
  },
  {
   "cell_type": "code",
   "execution_count": 10,
   "id": "b3ea76af",
   "metadata": {},
   "outputs": [
    {
     "name": "stdout",
     "output_type": "stream",
     "text": [
      "Enter a string: hghjg1kj\n",
      "The string contains numbers.\n"
     ]
    }
   ],
   "source": [
    "# 73. WAP to check given string contains numbers or not. it should consider float numbers also.\n",
    "\n",
    "import re\n",
    "def contains_numbers(input_string):\n",
    "    pattern = r'\\d+(\\.\\d+)?' \n",
    "    matches = re.findall(pattern, input_string)\n",
    "    return bool(matches)  \n",
    "\n",
    "user_input = input(\"Enter a string: \")\n",
    "if contains_numbers(user_input):\n",
    "    print(\"The string contains numbers.\")\n",
    "else:\n",
    "    print(\"The string does not conatain any numberss\")\n"
   ]
  },
  {
   "cell_type": "code",
   "execution_count": 11,
   "id": "925160ac",
   "metadata": {},
   "outputs": [
    {
     "name": "stdout",
     "output_type": "stream",
     "text": [
      "Enter any string=UGJKJhkl\n",
      " string in to lower case= ugjkjhkl\n",
      " string in to upper case= UGJKJHKL\n"
     ]
    }
   ],
   "source": [
    "# 74. Convert the total string in to lower case.\n",
    "# Convert the total string in to upper case.\n",
    "a=input(\"Enter any string=\")\n",
    "print(\" string in to lower case=\",a.lower())\n",
    "print(\" string in to upper case=\",a.upper())"
   ]
  },
  {
   "cell_type": "code",
   "execution_count": 13,
   "id": "e4d85bed",
   "metadata": {},
   "outputs": [
    {
     "name": "stdout",
     "output_type": "stream",
     "text": [
      "Aja Consulting Services @llp\n"
     ]
    }
   ],
   "source": [
    "# 75. Convert every word start letter into caps. Some how title not working if it contains numbers\n",
    "# and special symbols in the word\n",
    "\n",
    "s = 'aja consulting services @llp'\n",
    "op = ''\n",
    "for i in range(len(s)):\n",
    "    if i==0 or s[i-1]==' ':\n",
    "        op += s[i].upper()\n",
    "    \n",
    "    else:\n",
    "        op += s[i]\n",
    "print(op)"
   ]
  },
  {
   "cell_type": "code",
   "execution_count": null,
   "id": "84293681",
   "metadata": {},
   "outputs": [],
   "source": [
    "76.replace last two occurrences of given source string with destination string\n",
    " preserve the delimiter after split.\n"
   ]
  },
  {
   "cell_type": "code",
   "execution_count": 14,
   "id": "eb553f60",
   "metadata": {},
   "outputs": [
    {
     "name": "stdout",
     "output_type": "stream",
     "text": [
      "enter sub string : aja\n",
      "yes\n"
     ]
    }
   ],
   "source": [
    "# 77. write a program to check given substring is there in actual string or not? (search should be case insensitive)\n",
    "# example: act=\"python is a pure object oriented programing language\" \n",
    "\n",
    "act = \"I have worked in aja consulting services llp\"\n",
    "sub = input('enter sub string : ')\n",
    "if sub in act:\n",
    "    print('yes')\n",
    "else:\n",
    "    print('no')\n"
   ]
  },
  {
   "cell_type": "code",
   "execution_count": 15,
   "id": "546b5367",
   "metadata": {},
   "outputs": [
    {
     "name": "stdout",
     "output_type": "stream",
     "text": [
      "[10, 20, 30, 40, 50, 60, 70, 80, 90, 20]\n"
     ]
    }
   ],
   "source": [
    "#79. l=[10,20,30,[40,50,60],70,[80,90,20]]. Convert this list as single dimensional list\n",
    "\n",
    "l=[10,20,30,[40,50,60],70,[80,90,20]]\n",
    "op = []\n",
    "for i in l:\n",
    "    if type(i) == list:\n",
    "        op.extend(i)\n",
    "    else:\n",
    "        op.append(i)\n",
    "print(op)\n"
   ]
  },
  {
   "cell_type": "code",
   "execution_count": 17,
   "id": "82b42ef5",
   "metadata": {},
   "outputs": [
    {
     "name": "stdout",
     "output_type": "stream",
     "text": [
      "n 1\n",
      "a 4\n",
      "r 1\n",
      "d 1\n",
      "o 1\n",
      "j 1\n",
      "g 1\n",
      "  1\n",
      "v 1\n",
      "h 1\n"
     ]
    }
   ],
   "source": [
    "# 80. input: \"Google\" print count of each character\n",
    "s = 'govardhan aja'\n",
    "for i in set(s):\n",
    "    print(i, s.count(i))"
   ]
  },
  {
   "cell_type": "code",
   "execution_count": 18,
   "id": "b42eac04",
   "metadata": {},
   "outputs": [
    {
     "name": "stdout",
     "output_type": "stream",
     "text": [
      "[10, 20, 30, 40, 50, 60, 70, 80, 90, 20]\n"
     ]
    }
   ],
   "source": [
    "# 81. Convert n dimensional list to single dimensional list.\n",
    "l=[10,20,30,[40,50,60],70,[80,90,20]]\n",
    "op = []\n",
    "for i in l:\n",
    "    if type(i) == list:\n",
    "        op.extend(i)\n",
    "    else:\n",
    "        op.append(i)\n",
    "print(op)"
   ]
  },
  {
   "cell_type": "code",
   "execution_count": 21,
   "id": "ff0e67de",
   "metadata": {},
   "outputs": [
    {
     "data": {
      "text/plain": [
       "'123'"
      ]
     },
     "execution_count": 21,
     "metadata": {},
     "output_type": "execute_result"
    }
   ],
   "source": [
    "#82. l=[1,2,3] just make it as a string.\n",
    "\n",
    "l = [1, 2, 3]\n",
    "string = ''.join(map(str, l))\n",
    "string\n"
   ]
  },
  {
   "cell_type": "code",
   "execution_count": 22,
   "id": "feb2ad6e",
   "metadata": {},
   "outputs": [
    {
     "name": "stdout",
     "output_type": "stream",
     "text": [
      "[1, 2, 3, 4, 5, 6, 7, 8, 9, 10]\n"
     ]
    }
   ],
   "source": [
    "# 83. l=[1,2,3,[4,5,6],7,[8,9,10]] for single dimensional list\n",
    "a=[1,2,3,[4,5,6],7,[8,9,10]]\n",
    "b=[]\n",
    "for i in a:\n",
    "    if type(i) != list:\n",
    "        b.append(i)\n",
    "    else:\n",
    "        for j in i:\n",
    "            b.append(j)\n",
    "print(b)"
   ]
  },
  {
   "cell_type": "code",
   "execution_count": 23,
   "id": "fc9d5630",
   "metadata": {},
   "outputs": [],
   "source": [
    "# 84. l=['a','A','b','B','d','D','c','C'] WAP to find \n",
    "# out case insensitive count and 85. case insensitive search for an element."
   ]
  },
  {
   "cell_type": "code",
   "execution_count": 24,
   "id": "e894842b",
   "metadata": {},
   "outputs": [
    {
     "name": "stdout",
     "output_type": "stream",
     "text": [
      "['A', 'B', 'C', 'D', 'a', 'b', 'c', 'd']\n"
     ]
    }
   ],
   "source": [
    "# 86. l=['a','A','b','B','d','D','c','C']  sort the list properly\n",
    "l=['a','A','b','B','d','D','c','C']\n",
    "print(sorted(l))"
   ]
  },
  {
   "cell_type": "code",
   "execution_count": 25,
   "id": "0430924a",
   "metadata": {},
   "outputs": [
    {
     "name": "stdout",
     "output_type": "stream",
     "text": [
      "5 n\n",
      "2 p\n",
      "11 r\n",
      "13 o\n",
      "6 e\n"
     ]
    }
   ],
   "source": [
    "# 87. find the start position of the largest block of repeated characters in a given string\n",
    "s = 'happynewyeargooodmorningrepetedz'\n",
    "for i in set(s):\n",
    "    if s.count(i)>2:\n",
    "        print(s.index(i), i)"
   ]
  },
  {
   "cell_type": "code",
   "execution_count": 26,
   "id": "287e5e91",
   "metadata": {},
   "outputs": [
    {
     "name": "stdout",
     "output_type": "stream",
     "text": [
      "{1, 2, 3, 4, 5, 6}\n",
      "{1, 2}\n"
     ]
    }
   ],
   "source": [
    "# 88. WAP to find union and intersection of lists.\n",
    "s1 = {1, 2, 3}\n",
    "s2 = {4, 2, 5, 1, 6}\n",
    "print(s1.union(s2))\n",
    "print(s1.intersection(s2))"
   ]
  },
  {
   "cell_type": "code",
   "execution_count": 28,
   "id": "86e0ef13",
   "metadata": {},
   "outputs": [],
   "source": [
    "# 89. input: fun(5) output: [1,2,3,4,3,2,1]\n",
    "# 90. input fun('abc') output: [[],][a],[b],[c],[a,b],[b,c],[c,a],[a,b,c]]\n"
   ]
  },
  {
   "cell_type": "code",
   "execution_count": 29,
   "id": "61149cda",
   "metadata": {},
   "outputs": [
    {
     "name": "stdout",
     "output_type": "stream",
     "text": [
      "[1, 2, 3, 4]\n"
     ]
    }
   ],
   "source": [
    "# 91. Remove duplicates from the list: a=[1,2,3,2,3,4,1,,3,4]\n",
    "a=[1,2,3,2,3,4,1,3,4]\n",
    "op = []\n",
    "for i in a:\n",
    "    if i not in op:\n",
    "        op.append(i)\n",
    "print(op)    "
   ]
  },
  {
   "cell_type": "code",
   "execution_count": 30,
   "id": "4e70f0df",
   "metadata": {},
   "outputs": [],
   "source": [
    "# 92. l=['1','2','3'] get the sum of the list\n",
    "# 93. l1=[1,2,3,4] l2=[5,6,7,8] sum of two lists\n",
    "# 94. Find third max value of element in a list with soring and without sorting a list.\n",
    " # 95. Input = [\"1/1\",\"1/2\",\"1/3\",\"1/4\",\"2/5\",\"2/6\",\"2/8\"] Output = [['1/1-4'], ['2/5-6'], ['2/8']]\n"
   ]
  },
  {
   "cell_type": "code",
   "execution_count": 31,
   "id": "aca893f6",
   "metadata": {},
   "outputs": [
    {
     "name": "stdout",
     "output_type": "stream",
     "text": [
      "[[1, 2], 3, [], 5, [7, 8, 9, 10, 11, 12], 13, [], 20, [22, 23, 24, 25, 26], 27, [20, 21], 22]\n"
     ]
    }
   ],
   "source": [
    "# 96. l=[1,2,3,5,7,8,9,10,11,12,13,20,22,23,24,25,26,27,20,21,22,4] \n",
    "# output = [[1, 2, 3], [5], [7, 8, 9, 10, 11, 12, 13], [20], [22, 23, 24, 25, 26, 27], [20, 21, 22], [4]]\n",
    "\n",
    "l = [1,2,3,5,7,8,9,10,11,12,13,20,22,23,24,25,26,27,20,21,22,4]\n",
    "op = []\n",
    "res = []\n",
    "for i in range(len(l)-1):\n",
    "    \n",
    "    if l[i]+1 == l[i+1]:\n",
    "        res.append(l[i])\n",
    "    else:\n",
    "        op.append(res)\n",
    "        op.append(l[i])\n",
    "        res = []\n",
    "print(op)"
   ]
  },
  {
   "cell_type": "code",
   "execution_count": 43,
   "id": "c08dcf5a",
   "metadata": {},
   "outputs": [],
   "source": [
    "#97. input = 1,2,3,4,5,6,8,10 output = odd,even,odd,even,odd,even,even,even\n",
    "inputt = '1,2,3,4,5,6,8,10'.split(',')\n",
    "def check(a):\n",
    "    if int(a)%2==0:\n",
    "        return 'even'\n",
    "    else :\n",
    "        return 'odd'\n",
    "    \n",
    "res=map(check,inputt)\n"
   ]
  },
  {
   "cell_type": "code",
   "execution_count": 46,
   "id": "734a6115",
   "metadata": {},
   "outputs": [
    {
     "name": "stdout",
     "output_type": "stream",
     "text": [
      "n terms => 5\n",
      "from num 1000\n",
      "1000\n",
      "1001\n",
      "1002\n",
      "1003\n",
      "1004\n"
     ]
    }
   ],
   "source": [
    "# 98. input n=3\n",
    "#     \t\toutput:     111\n",
    "#         \t\t101\n",
    "#         \t\t111\n",
    "\n",
    "a=int(input('n terms => '))\n",
    "b=int(input('from num '))\n",
    "for i in range(b,b+a):\n",
    "    print(i)"
   ]
  },
  {
   "cell_type": "code",
   "execution_count": 44,
   "id": "21dc690d",
   "metadata": {},
   "outputs": [
    {
     "data": {
      "text/plain": [
       "{'g': 2, 'o': 2, 'l': 1, 'e': 1}"
      ]
     },
     "execution_count": 44,
     "metadata": {},
     "output_type": "execute_result"
    }
   ],
   "source": [
    "# 99. input: Google\n",
    "#     output: {'g':2,'o':2,'l':1,'e':1} use dictionary comprehension\n",
    "a='google'\n",
    "res={i:a.count(i) for i in a}\n",
    "res"
   ]
  },
  {
   "cell_type": "code",
   "execution_count": 3,
   "id": "62a84ce7",
   "metadata": {},
   "outputs": [
    {
     "data": {
      "text/plain": [
       "{'k1': 'v1', 'k2': 'v2'}"
      ]
     },
     "execution_count": 3,
     "metadata": {},
     "output_type": "execute_result"
    }
   ],
   "source": [
    "#100. keys=['k1','k2'], values = ['v1','v2'] form a dictionary.\n",
    "keys=['k1','k2']\n",
    "values = ['v1','v2']\n",
    "\n",
    "dic={}\n",
    "for i in zip(keys,values):\n",
    "   dic.update({i[0]:i[1]})\n",
    "dic\n"
   ]
  },
  {
   "cell_type": "code",
   "execution_count": 25,
   "id": "2e7194f3",
   "metadata": {},
   "outputs": [
    {
     "name": "stdout",
     "output_type": "stream",
     "text": [
      "[('satish', 90), ('mohan', 80), ('purnesh', 40), ('venkat', 30)]\n",
      "[('satish', 90), ('mohan', 80), ('purnesh', 40), ('venkat', 30)]\n"
     ]
    }
   ],
   "source": [
    "# 101. Sort the list marks = [(\"mohan\", 80), (\"satish\", 90), (\"purnesh\", 40), (\"venkat\", 30)]\n",
    "# according to descending order of marks\n",
    "marks = [(\"mohan\", 80), (\"satish\", 90), (\"purnesh\", 40), (\"venkat\", 30)]\n",
    "for i in range(len(marks)) :\n",
    "    for j in range(len(marks)) :\n",
    "        if marks[i][1] > marks[j][1] : \n",
    "            marks[i],marks[j]=marks[j],marks[i]\n",
    "print(marks)\n",
    "\n",
    "marks = [(\"mohan\", 80), (\"satish\", 90), (\"purnesh\", 40), (\"venkat\", 30)]\n",
    "marks.sort(key=lambda x:x[1],reverse=True)\n",
    "print(marks)\n",
    "\n"
   ]
  },
  {
   "cell_type": "code",
   "execution_count": 1,
   "id": "16d4f284",
   "metadata": {},
   "outputs": [
    {
     "data": {
      "text/plain": [
       "[10.2,\n",
       " 11.35,\n",
       " 12.5,\n",
       " 13.65,\n",
       " 14.8,\n",
       " 15.95,\n",
       " 17.1,\n",
       " 18.25,\n",
       " 19.4,\n",
       " 20.55,\n",
       " 21.7,\n",
       " 22.85,\n",
       " 24.0,\n",
       " 25.15]"
      ]
     },
     "execution_count": 1,
     "metadata": {},
     "output_type": "execute_result"
    }
   ],
   "source": [
    "# 102.write a function to get dynamic list for floating numbers also based on strat and end and step parameters\n",
    "def dynamic_list(a,b,step):\n",
    "    res =[]\n",
    "    current =a\n",
    "    while current < b:\n",
    "        res.append(current)\n",
    "        current=round(current+step,2)\n",
    "#         current=round(cuu)\n",
    "    return res\n",
    "dynamic_list(10.2,25.2,1.15)\n"
   ]
  },
  {
   "cell_type": "code",
   "execution_count": 11,
   "id": "ec232694",
   "metadata": {},
   "outputs": [
    {
     "name": "stdout",
     "output_type": "stream",
     "text": [
      "[6, 28]\n"
     ]
    }
   ],
   "source": [
    "# 103. find out all perfect numbers in given range\n",
    "list_a=[]\n",
    "for i in range(1,100):\n",
    "    ttl=0\n",
    "    for j in range(1,i//2+1):\n",
    "        if i%j==0:\n",
    "            ttl+=j\n",
    "    if i == ttl:\n",
    "        list_a.append(i)\n",
    "        \n",
    "print(list_a)\n",
    "            "
   ]
  },
  {
   "cell_type": "code",
   "execution_count": 20,
   "id": "2d4286ce",
   "metadata": {},
   "outputs": [
    {
     "name": "stdout",
     "output_type": "stream",
     "text": [
      "Pushed: 10\n",
      "Pushed: 101\n",
      "Pushed: 45\n",
      "Pushed: 78\n",
      "Pushed: 4\n",
      "Popped: 4\n",
      "Peeked: 78\n"
     ]
    },
    {
     "data": {
      "text/plain": [
       "[10, 101, 45, 78]"
      ]
     },
     "execution_count": 20,
     "metadata": {},
     "output_type": "execute_result"
    }
   ],
   "source": [
    "# 104. WAP to do all stack operations using lists\n",
    "class Stack:\n",
    "    def __init__(self):\n",
    "        self.list_a = []\n",
    "\n",
    "    def is_empty(self):\n",
    "        return len(self.list_a) == 0\n",
    "\n",
    "    def push(self, item):\n",
    "        self.list_a.append(item)\n",
    "        print(f\"Pushed: {item}\")\n",
    "\n",
    "    def pop(self):\n",
    "        if not self.is_empty():\n",
    "            popped_item = self.list_a.pop()\n",
    "            print(f\"Popped: {popped_item}\")\n",
    "            return popped_item\n",
    "        else:\n",
    "            print(\"Stack is empty\")\n",
    "            return None\n",
    "\n",
    "    def peek(self):\n",
    "        if not self.is_empty():\n",
    "            print(f\"Peeked: {self.list_a[-1]}\")\n",
    "            return self.list_a[-1]\n",
    "        else:\n",
    "            print(\"Stack is empty\")\n",
    "            return None\n",
    "\n",
    "stack = Stack()\n",
    "stack.push(10)\n",
    "stack.push(101)\n",
    "stack.push(45)\n",
    "stack.push(78)\n",
    "stack.push(4)\n",
    "stack.pop()\n",
    "stack.peek()\n",
    "stack.list_a"
   ]
  },
  {
   "cell_type": "code",
   "execution_count": 28,
   "id": "4fcfb46e",
   "metadata": {},
   "outputs": [
    {
     "name": "stdout",
     "output_type": "stream",
     "text": [
      "Initial queue deque(['a', 22, 2, 'b', 'c'])\n",
      "tis exteds deque(['z', 'y', 'x', 'a', 22, 2, 'b', 'c'])\n",
      "c\n",
      "deque(['z', 'y', 'x', 'a', 22, 2, 'b'])\n",
      "z\n",
      "deque(['y', 'x', 'a', 22, 2, 'b'])\n",
      "y\n",
      "this is dque deque(['x', 'a', 22, 2, 'b'])\n",
      "deque(['b', 'x', 'a', 22, 2])\n",
      "deque(['x', 'a', 22, 2, 'b'])\n"
     ]
    }
   ],
   "source": [
    "# WAP to do all queue operations using lists\n",
    "from collections import deque\n",
    "q = deque()\n",
    "q.append(22)\n",
    "q.append(2)\n",
    "q.appendleft('a')\n",
    "q.append('b')\n",
    "q.append('c')\n",
    "print(\"Initial queue\",q)\n",
    "q.extendleft(['x','y','z'])\n",
    "print('tis exteds',q)\n",
    "\n",
    "print(q.pop())\n",
    "print(q)\n",
    "print(q.popleft())\n",
    "print(q)\n",
    "print(q.popleft())\n",
    "print('this is dque',q)\n",
    "q.rotate(6)\n",
    "print(q)\n",
    "q.rotate(-1)\n",
    "print(q)\n"
   ]
  },
  {
   "cell_type": "code",
   "execution_count": 29,
   "id": "a02e870c",
   "metadata": {},
   "outputs": [
    {
     "data": {
      "text/plain": [
       "['__add__',\n",
       " '__class__',\n",
       " '__class_getitem__',\n",
       " '__contains__',\n",
       " '__copy__',\n",
       " '__delattr__',\n",
       " '__delitem__',\n",
       " '__dir__',\n",
       " '__doc__',\n",
       " '__eq__',\n",
       " '__format__',\n",
       " '__ge__',\n",
       " '__getattribute__',\n",
       " '__getitem__',\n",
       " '__getstate__',\n",
       " '__gt__',\n",
       " '__hash__',\n",
       " '__iadd__',\n",
       " '__imul__',\n",
       " '__init__',\n",
       " '__init_subclass__',\n",
       " '__iter__',\n",
       " '__le__',\n",
       " '__len__',\n",
       " '__lt__',\n",
       " '__mul__',\n",
       " '__ne__',\n",
       " '__new__',\n",
       " '__reduce__',\n",
       " '__reduce_ex__',\n",
       " '__repr__',\n",
       " '__reversed__',\n",
       " '__rmul__',\n",
       " '__setattr__',\n",
       " '__setitem__',\n",
       " '__sizeof__',\n",
       " '__str__',\n",
       " '__subclasshook__',\n",
       " 'append',\n",
       " 'appendleft',\n",
       " 'clear',\n",
       " 'copy',\n",
       " 'count',\n",
       " 'extend',\n",
       " 'extendleft',\n",
       " 'index',\n",
       " 'insert',\n",
       " 'maxlen',\n",
       " 'pop',\n",
       " 'popleft',\n",
       " 'remove',\n",
       " 'reverse',\n",
       " 'rotate']"
      ]
     },
     "execution_count": 29,
     "metadata": {},
     "output_type": "execute_result"
    }
   ],
   "source": [
    "dir(deque)"
   ]
  },
  {
   "cell_type": "code",
   "execution_count": null,
   "id": "61741734",
   "metadata": {},
   "outputs": [],
   "source": [
    "# WAP to remove n occurrences of specified element from a list"
   ]
  }
 ],
 "metadata": {
  "kernelspec": {
   "display_name": "Python 3 (ipykernel)",
   "language": "python",
   "name": "python3"
  },
  "language_info": {
   "codemirror_mode": {
    "name": "ipython",
    "version": 3
   },
   "file_extension": ".py",
   "mimetype": "text/x-python",
   "name": "python",
   "nbconvert_exporter": "python",
   "pygments_lexer": "ipython3",
   "version": "3.11.5"
  }
 },
 "nbformat": 4,
 "nbformat_minor": 5
}
